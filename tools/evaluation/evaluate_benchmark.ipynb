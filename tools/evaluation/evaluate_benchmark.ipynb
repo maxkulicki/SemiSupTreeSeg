{
 "cells": [
  {
   "cell_type": "code",
   "execution_count": 1,
   "metadata": {},
   "outputs": [
    {
     "name": "stdout",
     "output_type": "stream",
     "text": [
      "Jupyter environment detected. Enabling Open3D WebVisualizer.\n",
      "[Open3D INFO] WebRTC GUI backend enabled.\n",
      "[Open3D INFO] WebRTCWindowSystem: HTTP handshake server disabled.\n"
     ]
    }
   ],
   "source": [
    "import matplotlib.pyplot as plt\n",
    "from tree_learn.util import (plot_instance_evaluation_segments, load_results, get_qualitative_assessment, \n",
    "                             get_semantic_assessment, get_instance_assessment)\n",
    "\n",
    "%load_ext autoreload\n",
    "%autoreload 2\n"
   ]
  },
  {
   "cell_type": "code",
   "execution_count": 24,
   "metadata": {},
   "outputs": [],
   "source": [
    "#benchmark_forest_path = '../../data/benchmark/L1W_voxelized01.laz' # path to benchmark forest\n",
    "benchmark_forest_path = '../../data/wytham_crop_small/input/wytham_crop_train.laz' # path to benchmark forest\n",
    "#instance_evaluation_path = '../../data/pipeline/L1W/results/full_forest/instance_evaluation.pt' # path to instance evaluation object (change according to where your evaluation was performed)\n",
    "instance_evaluation_path = '/home/makskulicki/TreeLearn/results/instance_evaluation_2.pt' # path to instance evaluation object (change according to where your evaluation was performed)\n",
    "\n",
    "NON_TREE_CLASS_IN_INSTANCE_PREDS = 0\n",
    "NON_TREES_CLASS_IN_INSTANCE_LABELS = 0\n",
    "UNLABELED_CLASS_IN_INSTANCE_LABELS = -1"
   ]
  },
  {
   "cell_type": "markdown",
   "metadata": {},
   "source": [
    "# loading data"
   ]
  },
  {
   "cell_type": "code",
   "execution_count": 25,
   "metadata": {},
   "outputs": [],
   "source": [
    "instance_evaluation, instance_labels, instance_preds = load_results(instance_evaluation_path, benchmark_forest_path, UNLABELED_CLASS_IN_INSTANCE_LABELS)"
   ]
  },
  {
   "cell_type": "markdown",
   "metadata": {},
   "source": [
    "# qualitative assessment of detections"
   ]
  },
  {
   "cell_type": "code",
   "execution_count": 26,
   "metadata": {},
   "outputs": [
    {
     "name": "stdout",
     "output_type": "stream",
     "text": [
      "Number of matched predictions: 106\n",
      "non_matched_predictions: [ 33   9  10 106 107  13 110 112  19  85  22]; non_matched_predictions corresponding gt: [ 34   8  12 111 113  12 114 117  22  91  37]\n",
      "non_matched_gt: [  1  34   3  70   7  10  11  12  42 113 114  83 118  25  59  63  32]; non_matched_gts_corresponding_larger_tree: [  2  39  14  65   4   2   4  18  29 113 114 100 117  39  65  69  27]\n",
      "non_matched_preds_where_corresponding_gt_is_nan: []\n"
     ]
    }
   ],
   "source": [
    "n_fp, n_fn = get_qualitative_assessment(instance_evaluation)"
   ]
  },
  {
   "cell_type": "markdown",
   "metadata": {},
   "source": [
    "# semantic segmentation"
   ]
  },
  {
   "cell_type": "code",
   "execution_count": 27,
   "metadata": {},
   "outputs": [
    {
     "ename": "AssertionError",
     "evalue": "",
     "output_type": "error",
     "traceback": [
      "\u001b[0;31m---------------------------------------------------------------------------\u001b[0m",
      "\u001b[0;31mAssertionError\u001b[0m                            Traceback (most recent call last)",
      "Cell \u001b[0;32mIn[27], line 1\u001b[0m\n\u001b[0;32m----> 1\u001b[0m \u001b[43mget_semantic_assessment\u001b[49m\u001b[43m(\u001b[49m\u001b[43minstance_labels\u001b[49m\u001b[43m,\u001b[49m\u001b[43m \u001b[49m\u001b[43minstance_preds\u001b[49m\u001b[43m,\u001b[49m\u001b[43m \u001b[49m\u001b[43mnon_tree_class_in_instance_preds\u001b[49m\u001b[38;5;241;43m=\u001b[39;49m\u001b[43mNON_TREE_CLASS_IN_INSTANCE_PREDS\u001b[49m\u001b[43m,\u001b[49m\u001b[43m \u001b[49m\u001b[43mnon_tree_class_in_instance_labels\u001b[49m\u001b[38;5;241;43m=\u001b[39;49m\u001b[43mNON_TREES_CLASS_IN_INSTANCE_LABELS\u001b[49m\u001b[43m)\u001b[49m\n",
      "File \u001b[0;32m~/TreeLearn/tree_learn/util/eval.py:393\u001b[0m, in \u001b[0;36mget_semantic_assessment\u001b[0;34m(instance_labels, instance_preds, non_tree_class_in_instance_preds, non_tree_class_in_instance_labels)\u001b[0m\n\u001b[1;32m    390\u001b[0m non_tree_preds \u001b[38;5;241m=\u001b[39m np\u001b[38;5;241m.\u001b[39mlogical_not(tree_preds)\n\u001b[1;32m    391\u001b[0m non_tree_labels \u001b[38;5;241m=\u001b[39m np\u001b[38;5;241m.\u001b[39mlogical_not(tree_labels)\n\u001b[0;32m--> 393\u001b[0m tp_tree, fp_tree, tn_tree, fn_tree \u001b[38;5;241m=\u001b[39m \u001b[43mget_eval_res_components\u001b[49m\u001b[43m(\u001b[49m\u001b[43mtree_preds\u001b[49m\u001b[43m,\u001b[49m\u001b[43m \u001b[49m\u001b[43mtree_labels\u001b[49m\u001b[43m)\u001b[49m\n\u001b[1;32m    394\u001b[0m tp_non_tree, fp_non_tree, tn_non_tree, fn_non_tree \u001b[38;5;241m=\u001b[39m get_eval_res_components(non_tree_preds, non_tree_labels)\n\u001b[1;32m    396\u001b[0m acc_tree, prec_tree, rec_tree, f1_tree, fdr_tree, fnr_tree, one_minus_f1_tree, iou_tree, fp_error_rate_tree, fn_error_rate_tree, error_rate_tree \u001b[38;5;241m=\u001b[39m get_segmentation_metrics(tp_tree, fp_tree, tn_tree, fn_tree)\n",
      "File \u001b[0;32m~/TreeLearn/tree_learn/util/eval.py:301\u001b[0m, in \u001b[0;36mget_eval_res_components\u001b[0;34m(preds_mask, labels_mask)\u001b[0m\n\u001b[1;32m    300\u001b[0m \u001b[38;5;28;01mdef\u001b[39;00m \u001b[38;5;21mget_eval_res_components\u001b[39m(preds_mask, labels_mask):\n\u001b[0;32m--> 301\u001b[0m     \u001b[38;5;28;01massert\u001b[39;00m \u001b[38;5;28mlen\u001b[39m(preds_mask) \u001b[38;5;241m==\u001b[39m \u001b[38;5;28mlen\u001b[39m(labels_mask)\n\u001b[1;32m    303\u001b[0m     tp \u001b[38;5;241m=\u001b[39m (preds_mask \u001b[38;5;241m&\u001b[39m labels_mask)\u001b[38;5;241m.\u001b[39msum()\n\u001b[1;32m    304\u001b[0m     fp \u001b[38;5;241m=\u001b[39m (preds_mask \u001b[38;5;241m&\u001b[39m np\u001b[38;5;241m.\u001b[39mlogical_not(labels_mask))\u001b[38;5;241m.\u001b[39msum()\n",
      "\u001b[0;31mAssertionError\u001b[0m: "
     ]
    }
   ],
   "source": [
    "get_semantic_assessment(instance_labels, instance_preds, non_tree_class_in_instance_preds=NON_TREE_CLASS_IN_INSTANCE_PREDS, non_tree_class_in_instance_labels=NON_TREES_CLASS_IN_INSTANCE_LABELS)"
   ]
  },
  {
   "cell_type": "markdown",
   "metadata": {},
   "source": [
    "# instance segmentation"
   ]
  },
  {
   "cell_type": "code",
   "execution_count": 28,
   "metadata": {},
   "outputs": [
    {
     "name": "stdout",
     "output_type": "stream",
     "text": [
      "prec             0.836846\n",
      "rec              0.726082\n",
      "f1               0.758884\n",
      "iou              0.629093\n",
      "fp_error_rate    0.128136\n",
      "fn_error_rate    0.242772\n",
      "error_rate       0.370907\n",
      "dtype: float64\n"
     ]
    }
   ],
   "source": [
    "get_instance_assessment(instance_evaluation)"
   ]
  },
  {
   "cell_type": "code",
   "execution_count": 22,
   "metadata": {},
   "outputs": [
    {
     "data": {
      "image/png": "[encoded data removed]",
      "text/plain": [
       "<Figure size 400x100 with 3 Axes>"
      ]
     },
     "metadata": {},
     "output_type": "display_data"
    }
   ],
   "source": [
    "color = '#010003'\n",
    "fontsize=7\n",
    "fig_size=(4,1)\n",
    "y_range=[60, 100]\n",
    "x_label = \"Center \\u2192 Outer branches\"\n",
    "fig, axs = plt.subplots(1, 3, figsize=fig_size)\n",
    "plt.tight_layout()\n",
    "\n",
    "\n",
    "# precision\n",
    "values = instance_evaluation['segmentation_results']['xy_partition_relative'].iloc[:, 2:12].mean(0).to_numpy() * 100\n",
    "axs[0] = plot_instance_evaluation_segments(axs[0], values, fontsize=fontsize, measure=\"Precision in %\", y_range=y_range, color=color, x_label=x_label)\n",
    "\n",
    "# recall\n",
    "values = instance_evaluation['segmentation_results']['xy_partition_relative'].iloc[:, 12:22].mean(0).to_numpy() * 100\n",
    "axs[1] = plot_instance_evaluation_segments(axs[1], values, fontsize=fontsize, measure=\"Recall in %\", y_range=y_range, color=color, x_label=x_label)\n",
    "\n",
    "\n",
    "# f1-score\n",
    "values = instance_evaluation['segmentation_results']['xy_partition_relative'].iloc[:, 22:32].mean(0).to_numpy() * 100\n",
    "axs[2] = plot_instance_evaluation_segments(axs[2], values, fontsize=fontsize, measure=\"F1-Score in %\", y_range=y_range, color=color, x_label=x_label)\n",
    "\n",
    "fig.subplots_adjust(wspace=0.45, left=0, right=1, bottom=0.15, top=1)\n",
    "plt.show()"
   ]
  },
  {
   "cell_type": "code",
   "execution_count": 23,
   "metadata": {},
   "outputs": [
    {
     "data": {
      "image/png": "[encoded data removed]",
      "text/plain": [
       "<Figure size 400x100 with 3 Axes>"
      ]
     },
     "metadata": {},
     "output_type": "display_data"
    }
   ],
   "source": [
    "color = '#010003'\n",
    "fontsize=7\n",
    "fig_size=(4,1)\n",
    "y_range=[60, 100]\n",
    "x_label = \"Bottom \\u2192 Top\"\n",
    "fig, axs = plt.subplots(1, 3, figsize=fig_size)\n",
    "plt.tight_layout()\n",
    "\n",
    "\n",
    "# precision\n",
    "values = instance_evaluation['segmentation_results']['z_partition_relative'].iloc[:, 2:12].mean(0).to_numpy() * 100\n",
    "axs[0] = plot_instance_evaluation_segments(axs[0], values, fontsize=fontsize, measure=\"Precision in %\", y_range=y_range, color=color, x_label=x_label)\n",
    "\n",
    "# recall\n",
    "values = instance_evaluation['segmentation_results']['z_partition_relative'].iloc[:, 12:22].mean(0).to_numpy() * 100\n",
    "axs[1] = plot_instance_evaluation_segments(axs[1], values, fontsize=fontsize, measure=\"Recall in %\", y_range=y_range, color=color, x_label=x_label)\n",
    "\n",
    "\n",
    "# f1-score\n",
    "values = instance_evaluation['segmentation_results']['z_partition_relative'].iloc[:, 22:32].mean(0).to_numpy() * 100\n",
    "axs[2] = plot_instance_evaluation_segments(axs[2], values, fontsize=fontsize, measure=\"F1-Score in %\", y_range=y_range, color=color, x_label=x_label)\n",
    "\n",
    "fig.subplots_adjust(wspace=0.45, left=0, right=1, bottom=0.15, top=1)\n",
    "plt.show()"
   ]
  }
 ],
 "metadata": {
  "kernelspec": {
   "display_name": "tree_learn_deimos",
   "language": "python",
   "name": "python3"
  },
  "language_info": {
   "codemirror_mode": {
    "name": "ipython",
    "version": 3
   },
   "file_extension": ".py",
   "mimetype": "text/x-python",
   "name": "python",
   "nbconvert_exporter": "python",
   "pygments_lexer": "ipython3",
   "version": "3.9.19"
  },
  "orig_nbformat": 4
 },
 "nbformat": 4,
 "nbformat_minor": 2
}
